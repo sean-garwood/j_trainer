{
 "cells": [
  {
   "cell_type": "markdown",
   "metadata": {},
   "source": [
    "# Subjects\n",
    "\n",
    "Attempt to distill subjects from clue attributes using NLP tools.\n",
    "\n",
    "## Attributes\n",
    "\n",
    "The following attributes will be used:\n",
    "\n",
    "* Answer\n",
    "* Question\n",
    "* Category\n",
    "\n",
    "## Tools\n",
    "\n",
    "The following tools will be used:"
   ]
  },
  {
   "cell_type": "code",
   "execution_count": null,
   "metadata": {},
   "outputs": [],
   "source": [
    "import pandas as pd"
   ]
  }
 ],
 "metadata": {
  "kernelspec": {
   "display_name": "kaggle",
   "language": "python",
   "name": "python3"
  },
  "language_info": {
   "name": "python",
   "version": "3.11.7"
  }
 },
 "nbformat": 4,
 "nbformat_minor": 2
}
